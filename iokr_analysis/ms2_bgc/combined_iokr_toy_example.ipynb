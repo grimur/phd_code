{
 "cells": [
  {
   "cell_type": "code",
   "execution_count": 52,
   "metadata": {},
   "outputs": [
    {
     "name": "stdout",
     "output_type": "stream",
     "text": [
      "The autoreload extension is already loaded. To reload it, use:\n",
      "  %reload_ext autoreload\n"
     ]
    }
   ],
   "source": [
    "%load_ext autoreload\n",
    "%autoreload 2"
   ]
  },
  {
   "cell_type": "code",
   "execution_count": 53,
   "metadata": {},
   "outputs": [],
   "source": [
    "import numpy"
   ]
  },
  {
   "cell_type": "code",
   "execution_count": 54,
   "metadata": {},
   "outputs": [],
   "source": [
    "class Node(object):\n",
    "    def __init__(self, int_index=None, pos=None):\n",
    "        self.int_index = int_index\n",
    "        self.ext_index = None\n",
    "        self.label = \"Node {}\".format(self.int_index)\n",
    "        self.pos = pos\n",
    "        #self.fp = None\n",
    "        \n",
    "    def __repr__(self):\n",
    "        return self.label\n",
    "\n",
    "    @property    \n",
    "    def fp(self):\n",
    "        fp_vec = [0]*7\n",
    "        if self.int_index in (1, 2, 3):\n",
    "            fp_vec[self.int_index] = 1\n",
    "        else:\n",
    "            fp_vec[0] = 1\n",
    "            fp_vec[self.int_index] = 1\n",
    "        return numpy.array(fp_vec)\n",
    "\n",
    "# int. indices\n",
    "# 1\\   /5\n",
    "# | 2-4 |\n",
    "# 3/  \\6"
   ]
  },
  {
   "cell_type": "code",
   "execution_count": null,
   "metadata": {},
   "outputs": [],
   "source": []
  },
  {
   "cell_type": "code",
   "execution_count": 55,
   "metadata": {},
   "outputs": [],
   "source": [
    "# This isn't really needed, as we end up embedding it in R^2 and using dot products for kernels...\n",
    "# Good for visualisation, though."
   ]
  },
  {
   "cell_type": "code",
   "execution_count": 56,
   "metadata": {},
   "outputs": [],
   "source": [
    "import networkx as nx\n",
    "import matplotlib.pyplot as plt"
   ]
  },
  {
   "cell_type": "code",
   "execution_count": 57,
   "metadata": {},
   "outputs": [],
   "source": [
    "# Pos is coordinates in R^2\n",
    "n1 = Node(1, pos=(1, 2))\n",
    "n2 = Node(2, pos=(1, 1))\n",
    "n3 = Node(3, pos=(2, 1))\n",
    "n4 = Node(4, pos=(-1, -1))\n",
    "n5 = Node(5, pos=(-2, -1))\n",
    "n6 = Node(6, pos=(-1, -2))\n",
    "\n",
    "edge_list = [\n",
    "    (n1, n2),\n",
    "    (n2, n3),\n",
    "    (n3, n1),\n",
    "    (n2, n4),\n",
    "    (n4, n5),\n",
    "    (n5, n6),\n",
    "    (n6, n4)\n",
    "]\n",
    "\n",
    "G = nx.Graph()\n",
    "G.add_edges_from(edge_list)"
   ]
  },
  {
   "cell_type": "code",
   "execution_count": 58,
   "metadata": {},
   "outputs": [
    {
     "data": {
      "image/png": "[encoded data removed]",
      "text/plain": [
       "<Figure size 432x288 with 1 Axes>"
      ]
     },
     "metadata": {},
     "output_type": "display_data"
    }
   ],
   "source": [
    "nx.draw(G)"
   ]
  },
  {
   "cell_type": "code",
   "execution_count": 59,
   "metadata": {},
   "outputs": [],
   "source": [
    "def kernel(node1, node2):\n",
    "    # path distance in the graph space (x and z) is not a kernel\n",
    "    #shortest_path = nx.shortest_path(G, node1, node2)\n",
    "    #return len(shortest_path) - 1\n",
    "    \n",
    "    # The graph is embedded in R^2 - use the gaussian for the pos. vectors\n",
    "    l2 = numpy.sqrt(numpy.sum([(x - y)**2 for x, y in zip(node1.pos, node2.pos)]))\n",
    "    gaussian = numpy.exp(-0.1 * l2)\n",
    "    return gaussian"
   ]
  },
  {
   "cell_type": "code",
   "execution_count": 60,
   "metadata": {},
   "outputs": [],
   "source": [
    "def fp_kernel(fp1, fp2):\n",
    "    l2 = numpy.sqrt(numpy.sum([(x - y)**2 for x, y in zip(fp1, fp2)]))\n",
    "    gaussian = numpy.exp(-0.1 * l2)\n",
    "    return gaussian"
   ]
  },
  {
   "cell_type": "code",
   "execution_count": 61,
   "metadata": {},
   "outputs": [],
   "source": [
    "# Start with varying lengths to force the dimensions to line up\n",
    "x_input = [n1, n2, n3, n4, n5, n6]\n",
    "z_input = [n1, n2, n3, n4, n5, n6]\n",
    "numpy.random.shuffle(x_input)\n",
    "numpy.random.shuffle(z_input)"
   ]
  },
  {
   "cell_type": "code",
   "execution_count": 62,
   "metadata": {},
   "outputs": [],
   "source": [
    "# x = ms2\n",
    "# z = bgc\n",
    "# s(x, z) = (K_x + \\lambda I_n_x)^{-1} k_x(x)^T K_y(I_x, I_z) (K_z + \\lambda I_n_z)^{-1} k_z(z)\n",
    "# K_x: kernel matrix in X space (dim: no. of data points in training set X)\n",
    "# I_n_x: Identity matrix in the number of data points in training set X\n",
    "# k_x(x): Vector of the kernel products of x with the points in the training set\n",
    "# K_y(I_x, I_z): Kernel matrix with value K_y_(i, j) = k(x_i, y_j) -- i.e. the kernel products between \n",
    "#    the data points in the latent space from the two training sets\n",
    "\n",
    "# Precomputed stuff: \n",
    "#    (K_x + \\lambda I_n_x)^{-1} and similar for z\n",
    "#    K_y(I_x, I_z)\n",
    "# Input stuff:\n",
    "#    Kernel vectors k_x(x) and k_y(y)\n",
    "\n",
    "# Implement like this for the initial version and then see about optimising with lin.alg.\n",
    "\n"
   ]
  },
  {
   "cell_type": "code",
   "execution_count": 63,
   "metadata": {},
   "outputs": [],
   "source": [
    "from iokr_server import IOKRServer\n",
    "        "
   ]
  },
  {
   "cell_type": "code",
   "execution_count": 64,
   "metadata": {},
   "outputs": [],
   "source": [
    "# build x kernel matrix\n",
    "K_x = numpy.zeros((len(x_input), len(x_input)))\n",
    "for i in range(len(x_input)):\n",
    "    for j in range(i+1):\n",
    "        x_i = x_input[i]\n",
    "        x_j = x_input[j]\n",
    "        K_x_i_x_j = kernel(x_i, x_j)\n",
    "        K_x[i, j] = K_x_i_x_j\n",
    "        K_x[j, i] = K_x_i_x_j\n",
    "        \n",
    "# build z kernel matrix\n",
    "K_z = numpy.zeros((len(z_input), len(z_input)))\n",
    "for i in range(len(z_input)):\n",
    "    for j in range(len(z_input)):\n",
    "        z_i = z_input[i]\n",
    "        z_j = z_input[j]\n",
    "        K_z_i_z_j = kernel(z_i, z_j)\n",
    "        K_z[i, j] = K_z_i_z_j\n",
    "        K_z[j, i] = K_z_i_z_j\n",
    "        \n",
    "# build y kernel matrix\n",
    "# Need to extract the y vectors before!\n",
    "# The x_input_y vector is a vector of y-space elements corresponding to the x-space training set elements\n",
    "# ditto z_input_y\n",
    "\n",
    "x_input_y = [x.fp for x in x_input]\n",
    "z_input_y = [x.fp for x in z_input]\n",
    "K_y = numpy.zeros((len(x_input), len(z_input)))\n",
    "for i in range(len(x_input)):\n",
    "    for j in range(len(z_input)):\n",
    "        y_i = x_input_y[i]\n",
    "        y_j = z_input_y[j]\n",
    "        K_y[i, j] = fp_kernel(y_i, y_j)"
   ]
  },
  {
   "cell_type": "code",
   "execution_count": null,
   "metadata": {},
   "outputs": [],
   "source": []
  },
  {
   "cell_type": "code",
   "execution_count": 65,
   "metadata": {},
   "outputs": [
    {
     "name": "stdout",
     "output_type": "stream",
     "text": [
      "[5.25914228 0.13187655 0.2133515  0.13187655 0.13187655 0.13187655]\n",
      "[4.83033227 0.74666554 0.07416117 0.0850879  0.14672033 0.11703278]\n",
      "[4.83033227 0.74666554 0.14672033 0.11703278 0.07416117 0.0850879 ]\n"
     ]
    }
   ],
   "source": [
    "# Make sure they're all valid kernel functions\n",
    "# (unnecessary for the Gaussian, but spoilers - the inital ones weren't!)\n",
    "K_y_full = numpy.zeros((len(z_input), len(z_input)))\n",
    "for i in range(len(z_input)):\n",
    "    for j in range(len(z_input)):\n",
    "        z_i = z_input_y[i]\n",
    "        z_j = z_input_y[j]\n",
    "        K_z_i_z_j = fp_kernel(z_i, z_j)\n",
    "        K_y_full[i, j] = K_z_i_z_j\n",
    "        K_y_full[j, i] = K_z_i_z_j\n",
    "print(numpy.linalg.eig(K_y_full)[0])\n",
    "print(numpy.linalg.eig(K_x)[0])\n",
    "print(numpy.linalg.eig(K_z)[0])"
   ]
  },
  {
   "cell_type": "code",
   "execution_count": null,
   "metadata": {},
   "outputs": [],
   "source": []
  },
  {
   "cell_type": "code",
   "execution_count": 66,
   "metadata": {},
   "outputs": [],
   "source": [
    "# Initialise the IOKR server"
   ]
  },
  {
   "cell_type": "code",
   "execution_count": 70,
   "metadata": {},
   "outputs": [],
   "source": [
    "i = IOKRServer()\n",
    "i._lambda = 0.1\n",
    "i.K_y = K_y\n",
    "i.K_x = K_x\n",
    "i.K_z = K_z\n",
    "i.training_data_x = x_input\n",
    "i.training_data_z = z_input\n",
    "i.kernel_function_x = kernel\n",
    "i.kernel_function_z = kernel"
   ]
  },
  {
   "cell_type": "code",
   "execution_count": 71,
   "metadata": {},
   "outputs": [],
   "source": [
    "i.init()"
   ]
  },
  {
   "cell_type": "code",
   "execution_count": null,
   "metadata": {},
   "outputs": [],
   "source": []
  },
  {
   "cell_type": "code",
   "execution_count": 72,
   "metadata": {},
   "outputs": [
    {
     "data": {
      "text/plain": [
       "array([[0.86469065]])"
      ]
     },
     "execution_count": 72,
     "metadata": {},
     "output_type": "execute_result"
    }
   ],
   "source": [
    "# Smoke test\n",
    "i.score(x_input[0], z_input[0])"
   ]
  },
  {
   "cell_type": "code",
   "execution_count": null,
   "metadata": {},
   "outputs": [],
   "source": []
  },
  {
   "cell_type": "code",
   "execution_count": 73,
   "metadata": {},
   "outputs": [],
   "source": [
    "# Test n-by-n"
   ]
  },
  {
   "cell_type": "code",
   "execution_count": 74,
   "metadata": {},
   "outputs": [
    {
     "name": "stdout",
     "output_type": "stream",
     "text": [
      "Node 2 ['Node 3, 0.8647', 'Node 4, 0.8438', 'Node 6, 0.8201', 'Node 5, 0.8201', 'Node 1, 0.8647', 'Node 2, 0.9063']\n",
      "Node 4 ['Node 3, 0.8201', 'Node 4, 0.9063', 'Node 6, 0.8647', 'Node 5, 0.8647', 'Node 1, 0.8201', 'Node 2, 0.8438']\n",
      "Node 3 ['Node 3, 0.8841', 'Node 4, 0.8201', 'Node 6, 0.8014', 'Node 5, 0.7972', 'Node 1, 0.8416', 'Node 2, 0.8647']\n",
      "Node 1 ['Node 3, 0.8416', 'Node 4, 0.8201', 'Node 6, 0.7972', 'Node 5, 0.8014', 'Node 1, 0.8841', 'Node 2, 0.8647']\n",
      "Node 6 ['Node 3, 0.8014', 'Node 4, 0.8647', 'Node 6, 0.8841', 'Node 5, 0.8416', 'Node 1, 0.7972', 'Node 2, 0.8201']\n",
      "Node 5 ['Node 3, 0.7972', 'Node 4, 0.8647', 'Node 6, 0.8416', 'Node 5, 0.8841', 'Node 1, 0.8014', 'Node 2, 0.8201']\n"
     ]
    }
   ],
   "source": [
    "for x in x_input:\n",
    "    print(x, ['{}, {:.4f}'.format(z, i.score(x, z)[0,0]) for z in z_input])"
   ]
  },
  {
   "cell_type": "code",
   "execution_count": null,
   "metadata": {},
   "outputs": [],
   "source": []
  },
  {
   "cell_type": "code",
   "execution_count": 76,
   "metadata": {},
   "outputs": [
    {
     "name": "stdout",
     "output_type": "stream",
     "text": [
      "Node 8 ['Node 3, 0.8275', 'Node 4, 0.7810', 'Node 6, 0.7615', 'Node 5, 0.7615', 'Node 1, 0.8275', 'Node 2, 0.8267']\n",
      "Node 9 ['Node 3, 0.7615', 'Node 4, 0.8267', 'Node 6, 0.8275', 'Node 5, 0.8275', 'Node 1, 0.7615', 'Node 2, 0.7810']\n"
     ]
    }
   ],
   "source": [
    "n8 = Node(8, pos=(2, 2))\n",
    "print('Unseen example. Should be close to nodes 1, 2, 3')\n",
    "print(n8, ['{}, {:.4f}'.format(z, i.score(n8, z)[0,0]) for z in z_input])\n",
    "\n",
    "n9 = Node(9, pos=(-2, -2))\n",
    "print('Unseen example. Should be close to nodes 4, 5, 6')\n",
    "print(n9, ['{}, {:.4f}'.format(z, i.score(n9, z)[0,0]) for z in z_input])\n"
   ]
  },
  {
   "cell_type": "code",
   "execution_count": null,
   "metadata": {},
   "outputs": [],
   "source": []
  },
  {
   "cell_type": "code",
   "execution_count": null,
   "metadata": {},
   "outputs": [],
   "source": [
    "# The spectra are of the type spectrum.MSSpectrum with kernel spectrum.ppk_wrapper\n",
    "# on load:\n",
    "#    path = <data path>\n",
    "#    ms.correct_for_ionisation = True\n",
    "#    ms.normalise = True\n",
    "#    ms.filter = spectrum_filters.filter_by_frozen_dag\n",
    "#    ms.load(os.path.join(path, 'spec', spectrum_id + '.ms'))\n",
    "\n",
    "# The fingerprints -- molecular_fingerprints.fingerprint_kernel (works on FPs, though)\n",
    "\n",
    "# The BGCs -- bgc.wv_kernel\n",
    "\n",
    "# bgc loader:\n",
    "# loads BGC dir (id list?), \n",
    "# assembles dictionary\n",
    "# loads metabolite structures\n",
    "\n",
    "# spectra loader:\n",
    "# loads spectra dir (id list?)\n",
    "# loads metabolite structures\n",
    "\n",
    "# init fp training set from combined structures (spectra, bgcs)!!!\n",
    "\n",
    "# Training sets:\n",
    "# ms2-fp: iokr\n",
    "# bgc-fp: mibig (total!) run on 1.4 because BiG-SCAPE aligns the Pfam domains and only includes MIBiG 1.4\n",
    "# test set: gnps-mibig\n",
    "\n",
    "def get_kernel_vector_for_sample(ms, training_set, kernel_function):\n",
    "    kernel_vector = []\n",
    "    \n",
    "    ms_auto = kernel_function(ms, ms)\n",
    "    for t_ms in training_set:\n",
    "        t_ms_auto = kernel_function(t_ms)\n",
    "        ms_t_ms = kernel_function(ms, t_ms)\n",
    "        kernel_value = ms_t_ms / numpy.sqrt(ms_auto, t_ms_auto)\n",
    "        kernel_vector.append(kernel_value)\n",
    "        \n",
    "    return kernel_vector\n",
    "\n",
    "def normalise_kernel(matrix):\n",
    "    return matrix / numpy.sqrt(numpy.outer(matrix.diagonal(), matrix.diagonal()))"
   ]
  },
  {
   "cell_type": "code",
   "execution_count": 84,
   "metadata": {},
   "outputs": [
    {
     "name": "stdout",
     "output_type": "stream",
     "text": [
      "building word vectors from 2236 words\n"
     ]
    }
   ],
   "source": [
    "import bgc\n",
    "\n",
    "mibig_structure_file = \"/home/grimur/_iokr/data/mibig/compunds_structures_1.4.csv\"\n",
    "pfs_data_dir = \"/home/grimur/mibig_kernel_test/cache/pfs\"\n",
    "\n",
    "bgc_corpus = bgc.load_data_dir(mibig_structure_file, pfs_data_dir)"
   ]
  },
  {
   "cell_type": "code",
   "execution_count": 94,
   "metadata": {},
   "outputs": [
    {
     "name": "stdout",
     "output_type": "stream",
     "text": [
      "BGC0000929\n",
      "0.5655254386995371\n",
      "1.0\n"
     ]
    }
   ],
   "source": [
    "sample_bgc = bgc_corpus.documents[0]\n",
    "print(sample_bgc.bgc_id)\n",
    "# print(sample_bgc.words)\n",
    "# print(sample_bgc.metabolites)\n",
    "# print(sample_bgc.word_vector)\n",
    "b1, b2 = bgc_corpus.documents[:2]\n",
    "print(bgc.wv_kernel(b1.word_vector, b2.word_vector))\n",
    "print(bgc.wv_kernel(b1.word_vector, b1.word_vector))"
   ]
  },
  {
   "cell_type": "code",
   "execution_count": null,
   "metadata": {},
   "outputs": [],
   "source": []
  }
 ],
 "metadata": {
  "kernelspec": {
   "display_name": "Python 3",
   "language": "python",
   "name": "python3"
  },
  "language_info": {
   "codemirror_mode": {
    "name": "ipython",
    "version": 3
   },
   "file_extension": ".py",
   "mimetype": "text/x-python",
   "name": "python",
   "nbconvert_exporter": "python",
   "pygments_lexer": "ipython3",
   "version": "3.7.2"
  }
 },
 "nbformat": 4,
 "nbformat_minor": 2
}
