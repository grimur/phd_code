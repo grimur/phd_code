{
 "cells": [
  {
   "cell_type": "code",
   "execution_count": 1,
   "metadata": {},
   "outputs": [],
   "source": [
    "%load_ext autoreload\n",
    "%autoreload 2"
   ]
  },
  {
   "cell_type": "code",
   "execution_count": 2,
   "metadata": {},
   "outputs": [],
   "source": [
    "import sys\n",
    "sys.path.append('/home/grimur/git/nplinker/nplinker/prototype/')"
   ]
  },
  {
   "cell_type": "code",
   "execution_count": null,
   "metadata": {},
   "outputs": [],
   "source": []
  },
  {
   "cell_type": "code",
   "execution_count": null,
   "metadata": {},
   "outputs": [],
   "source": []
  },
  {
   "cell_type": "code",
   "execution_count": 3,
   "metadata": {},
   "outputs": [],
   "source": [
    "from nplinker import nplinker\n",
    "from nplinker import logconfig\n",
    "logconfig.LogConfig.setLogLevel('DEBUG')\n",
    "\n",
    "from nplinker.parsers.kcb import KCBParser\n",
    "from nplinker.scoring import misc"
   ]
  },
  {
   "cell_type": "code",
   "execution_count": 4,
   "metadata": {},
   "outputs": [],
   "source": [
    "from nplinker.strains import Strain, StrainCollection"
   ]
  },
  {
   "cell_type": "code",
   "execution_count": 5,
   "metadata": {},
   "outputs": [],
   "source": [
    "strain_ids = ['A', 'B', 'C', 'D', 'E', 'F', 'G', 'H']\n",
    "strain_collection = StrainCollection()\n",
    "for strain_id in strain_ids:\n",
    "    s = Strain(strain_id)\n",
    "    strain_collection.add(s)"
   ]
  },
  {
   "cell_type": "code",
   "execution_count": 6,
   "metadata": {},
   "outputs": [
    {
     "name": "stdout",
     "output_type": "stream",
     "text": [
      "14:45:42 [DEBUG] config.py:71, Parsing default config file: /home/grimur/.config/nplinker/nplinker.toml\n",
      "14:45:42 [DEBUG] config.py:74, Loading user config /home/grimur/data-crusemann/nplinker_crusemann_20200131/crusemann_new.toml\n",
      "14:45:42 [INFO] config.py:106, Loading from local data in directory /home/grimur/data-crusemann/nplinker_crusemann_26112019\n",
      "14:45:42 [DEBUG] loader.py:129, DatasetLoader(/home/grimur/data-crusemann/nplinker_crusemann_26112019, , False)\n",
      "14:45:42 [DEBUG] nplinker.py:119, Enabled scoring method: metcalf\n",
      "14:45:42 [DEBUG] nplinker.py:119, Enabled scoring method: testscore\n",
      "14:45:42 [DEBUG] nplinker.py:119, Enabled scoring method: rosetta\n"
     ]
    }
   ],
   "source": [
    "npl = nplinker.NPLinker('/home/grimur/data-crusemann/nplinker_crusemann_20200131/crusemann_new.toml')"
   ]
  },
  {
   "cell_type": "code",
   "execution_count": 7,
   "metadata": {},
   "outputs": [],
   "source": [
    "npl._strains = strain_collection"
   ]
  },
  {
   "cell_type": "code",
   "execution_count": 8,
   "metadata": {},
   "outputs": [],
   "source": [
    "from nplinker.genomics import BGC\n",
    "from nplinker.genomics import GCF\n",
    "import numpy"
   ]
  },
  {
   "cell_type": "code",
   "execution_count": 9,
   "metadata": {},
   "outputs": [],
   "source": [
    "bgcs = []\n",
    "gcfs = []\n",
    "\n",
    "g = GCF(id=1, gcf_id=\"alpha\", product_type=None)\n",
    "b = BGC(id=1, strain=strain_collection.lookup('A'), name=1, bigscape_class=None, product_prediction=None)\n",
    "g.add_bgc(b)\n",
    "bgcs.append(b)\n",
    "b = BGC(id=2, strain=strain_collection.lookup('B'), name=2, bigscape_class=None, product_prediction=None)\n",
    "g.add_bgc(b)\n",
    "bgcs.append(b)\n",
    "b = BGC(id=3, strain=strain_collection.lookup('C'), name=3, bigscape_class=None, product_prediction=None)\n",
    "g.add_bgc(b)\n",
    "bgcs.append(b)\n",
    "b = BGC(id=4, strain=strain_collection.lookup('D'), name=4, bigscape_class=None, product_prediction=None)\n",
    "g.add_bgc(b)\n",
    "bgcs.append(b)\n",
    "gcfs.append(g)\n",
    "\n",
    "\n",
    "g = GCF(id=2, gcf_id=\"beta\", product_type=None)\n",
    "b = BGC(id=5, strain=strain_collection.lookup('E'), name=5, bigscape_class=None, product_prediction=None)\n",
    "g.add_bgc(b)\n",
    "bgcs.append(b)\n",
    "b = BGC(id=6, strain=strain_collection.lookup('F'), name=6, bigscape_class=None, product_prediction=None)\n",
    "g.add_bgc(b)\n",
    "bgcs.append(b)\n",
    "b = BGC(id=7, strain=strain_collection.lookup('G'), name=7, bigscape_class=None, product_prediction=None)\n",
    "g.add_bgc(b)\n",
    "bgcs.append(b)\n",
    "b = BGC(id=8, strain=strain_collection.lookup('H'), name=8, bigscape_class=None, product_prediction=None)\n",
    "g.add_bgc(b)\n",
    "bgcs.append(b)\n",
    "b = BGC(id=9, strain=strain_collection.lookup('C'), name=9, bigscape_class=None, product_prediction=None)\n",
    "g.add_bgc(b)\n",
    "bgcs.append(b)\n",
    "gcfs.append(g)\n",
    "\n",
    "g = GCF(id=3, gcf_id=\"gamma\", product_type=None)\n",
    "b = BGC(id=10, strain=strain_collection.lookup('B'), name=10, bigscape_class=None, product_prediction=None)\n",
    "g.add_bgc(b)\n",
    "bgcs.append(b)\n",
    "b = BGC(id=11, strain=strain_collection.lookup('F'), name=11, bigscape_class=None, product_prediction=None)\n",
    "g.add_bgc(b)\n",
    "bgcs.append(b)\n",
    "b = BGC(id=12, strain=strain_collection.lookup('H'), name=12, bigscape_class=None, product_prediction=None)\n",
    "g.add_bgc(b)\n",
    "bgcs.append(b)\n",
    "gcfs.append(g)\n",
    "\n",
    "\n",
    "npl._bgcs = bgcs\n",
    "npl._gcfs = gcfs\n"
   ]
  },
  {
   "cell_type": "code",
   "execution_count": 10,
   "metadata": {},
   "outputs": [],
   "source": [
    "from nplinker.metabolomics import Spectrum, MolecularFamily"
   ]
  },
  {
   "cell_type": "code",
   "execution_count": 11,
   "metadata": {},
   "outputs": [],
   "source": [
    "spectra = []\n",
    "molfams = []\n",
    "\n",
    "s = Spectrum(id=1, peaks=[(1, 1)], spectrum_id=1, precursor_mz=0)\n",
    "s.add_strain(strain=strain_collection.lookup('A'), growth_medium=None, peak_intensity=None)\n",
    "s.add_strain(strain=strain_collection.lookup('B'), growth_medium=None, peak_intensity=None)\n",
    "s.add_strain(strain=strain_collection.lookup('C'), growth_medium=None, peak_intensity=None)\n",
    "s.add_strain(strain=strain_collection.lookup('D'), growth_medium=None, peak_intensity=None)\n",
    "\n",
    "spectra.append(s)\n",
    "mf = MolecularFamily(\"alpha\")\n",
    "mf.add_spectrum(s)\n",
    "molfams.append(mf)\n",
    "\n",
    "s = Spectrum(id=2, peaks=[(1, 1)], spectrum_id=2, precursor_mz=0)\n",
    "s.add_strain(strain=strain_collection.lookup('E'), growth_medium=None, peak_intensity=None)\n",
    "s.add_strain(strain=strain_collection.lookup('F'), growth_medium=None, peak_intensity=None)\n",
    "s.add_strain(strain=strain_collection.lookup('H'), growth_medium=None, peak_intensity=None)\n",
    "s.add_strain(strain=strain_collection.lookup('C'), growth_medium=None, peak_intensity=None)\n",
    "spectra.append(s)\n",
    "mf = MolecularFamily(\"beta\")\n",
    "mf.add_spectrum(s)\n",
    "molfams.append(mf)\n",
    "\n",
    "s = Spectrum(id=3, peaks=[(1, 1)], spectrum_id=3, precursor_mz=0)\n",
    "s.add_strain(strain=strain_collection.lookup('B'), growth_medium=None, peak_intensity=None)\n",
    "s.add_strain(strain=strain_collection.lookup('F'), growth_medium=None, peak_intensity=None)\n",
    "spectra.append(s)\n",
    "mf = MolecularFamily(\"gamma\")\n",
    "mf.add_spectrum(s)\n",
    "molfams.append(mf)\n",
    "\n",
    "npl._spectra = spectra\n",
    "npl._molfams = molfams\n"
   ]
  },
  {
   "cell_type": "code",
   "execution_count": null,
   "metadata": {},
   "outputs": [],
   "source": []
  },
  {
   "cell_type": "code",
   "execution_count": 12,
   "metadata": {},
   "outputs": [],
   "source": [
    "from Bio import Phylo\n",
    "import io"
   ]
  },
  {
   "cell_type": "code",
   "execution_count": 13,
   "metadata": {},
   "outputs": [],
   "source": [
    "tree = Phylo.read(io.StringIO(\"((A, B), (C, D)), ((E, F), (G, H))\"), \"newick\")"
   ]
  },
  {
   "cell_type": "code",
   "execution_count": 14,
   "metadata": {},
   "outputs": [
    {
     "name": "stdout",
     "output_type": "stream",
     "text": [
      "                                                    ________________________ A\n",
      "                           ________________________|\n",
      "                          |                        |________________________ B\n",
      "  ________________________|\n",
      " |                        |                         ________________________ C\n",
      " |                        |________________________|\n",
      " |                                                 |________________________ D\n",
      "_|\n",
      " |                                                  ________________________ E\n",
      " |                         ________________________|\n",
      " |                        |                        |________________________ F\n",
      " |________________________|\n",
      "                          |                         ________________________ G\n",
      "                          |________________________|\n",
      "                                                   |________________________ H\n",
      "\n"
     ]
    }
   ],
   "source": [
    "Phylo.draw_ascii(tree)"
   ]
  },
  {
   "cell_type": "code",
   "execution_count": null,
   "metadata": {},
   "outputs": [],
   "source": []
  },
  {
   "cell_type": "code",
   "execution_count": null,
   "metadata": {},
   "outputs": [],
   "source": []
  },
  {
   "cell_type": "code",
   "execution_count": 15,
   "metadata": {},
   "outputs": [],
   "source": [
    "import matplotlib.pyplot as plt"
   ]
  },
  {
   "cell_type": "code",
   "execution_count": null,
   "metadata": {},
   "outputs": [],
   "source": []
  },
  {
   "cell_type": "code",
   "execution_count": 16,
   "metadata": {},
   "outputs": [
    {
     "data": {
      "image/png": "[encoded data removed]",
      "text/plain": [
       "<Figure size 432x288 with 1 Axes>"
      ]
     },
     "metadata": {},
     "output_type": "display_data"
    }
   ],
   "source": [
    "fig, ax1 = plt.subplots(1, 1, figsize=(6, 4))\n",
    "\n",
    "\n",
    "Phylo.draw(tree, axes=ax1, do_show=False)\n",
    "\n",
    "ax1.set_xticks([])\n",
    "ax1.set_yticks([])\n",
    "ax1.set_xlabel('')\n",
    "ax1.set_ylabel('')\n",
    "\n",
    "plt.tight_layout()\n",
    "\n",
    "plt.savefig('fig_synthetic_tree.pdf')"
   ]
  },
  {
   "cell_type": "code",
   "execution_count": null,
   "metadata": {},
   "outputs": [],
   "source": []
  },
  {
   "cell_type": "code",
   "execution_count": null,
   "metadata": {},
   "outputs": [],
   "source": []
  },
  {
   "cell_type": "code",
   "execution_count": null,
   "metadata": {},
   "outputs": [],
   "source": []
  },
  {
   "cell_type": "code",
   "execution_count": 17,
   "metadata": {},
   "outputs": [],
   "source": [
    "import phylo_collapse"
   ]
  },
  {
   "cell_type": "code",
   "execution_count": 18,
   "metadata": {},
   "outputs": [
    {
     "name": "stdout",
     "output_type": "stream",
     "text": [
      "alpha\txxxx----\n",
      "beta\t--x-xxox\n",
      "gamma\t-x---x-o\n"
     ]
    }
   ],
   "source": [
    "for g in npl.gcfs:\n",
    "    for m in npl.molfams:\n",
    "        if g.gcf_id == m.family_id:\n",
    "            print(m.family_id, end='\\t')\n",
    "            for s in npl.strains:\n",
    "                if s in g.strains:\n",
    "                    if s in m.strains:\n",
    "                        print('x', end='')\n",
    "                    else:\n",
    "                        print('o', end='')\n",
    "                else:\n",
    "                    print('-', end='')\n",
    "            print('')\n",
    "                "
   ]
  },
  {
   "cell_type": "code",
   "execution_count": null,
   "metadata": {},
   "outputs": [],
   "source": []
  },
  {
   "cell_type": "code",
   "execution_count": null,
   "metadata": {},
   "outputs": [],
   "source": []
  },
  {
   "cell_type": "code",
   "execution_count": 32,
   "metadata": {},
   "outputs": [],
   "source": [
    "def test(tree, num_samples=10000):\n",
    "    strains = [x.name for x in tree.get_terminals()]\n",
    "    \n",
    "    scores = []\n",
    "    for gcf_strain in strains:\n",
    "        for mf_strain in strains:\n",
    "            if gcf_strain == mf_strain:\n",
    "                continue\n",
    "    #for i in range(num_samples):\n",
    "    #    gcf_strain = numpy.random.choice(strains)\n",
    "    #    mf_strain = numpy.random.choice(strains)\n",
    "\n",
    "            phylo_dist = len(tree.trace(gcf_strain, mf_strain))\n",
    "\n",
    "            gcf_strain_object = npl.strains.lookup(gcf_strain)\n",
    "            mf_strain_object = npl.strains.lookup(mf_strain)\n",
    "\n",
    "            potential_gcfs = [x for x in npl.gcfs if gcf_strain_object in x.strains]\n",
    "            potential_mfs = [x for x in npl.molfams if mf_strain_object in x.strains]\n",
    "\n",
    "            max_corr_score = -10000\n",
    "            max_phylo_score = -10000\n",
    "            for gcf in potential_gcfs:\n",
    "                for mf in potential_mfs:\n",
    "                    corr_score = phylo_collapse.calculate_correlation(tree, mf, gcf, collapse=False)\n",
    "                    phylo_score = phylo_collapse.calculate_correlation(tree, mf, gcf, collapse=True)\n",
    "                    max_corr_score = max(max_corr_score, corr_score)\n",
    "                    max_phylo_score = max(max_phylo_score, phylo_score)\n",
    "\n",
    "            #print(phylo_dist, max_corr_score, max_phylo_score)\n",
    "            if max_corr_score != -10000 and max_phylo_score != -10000:\n",
    "                scores.append((phylo_dist, max_corr_score, max_phylo_score))\n",
    "        \n",
    "    return scores"
   ]
  },
  {
   "cell_type": "code",
   "execution_count": null,
   "metadata": {},
   "outputs": [],
   "source": []
  },
  {
   "cell_type": "code",
   "execution_count": 33,
   "metadata": {},
   "outputs": [],
   "source": [
    "score_comparison = test(tree)"
   ]
  },
  {
   "cell_type": "code",
   "execution_count": 34,
   "metadata": {},
   "outputs": [],
   "source": [
    "import scipy.stats"
   ]
  },
  {
   "cell_type": "code",
   "execution_count": 35,
   "metadata": {},
   "outputs": [
    {
     "name": "stdout",
     "output_type": "stream",
     "text": [
      "SpearmanrResult(correlation=-0.7591902558638323, pvalue=2.5770683201940603e-10)\n",
      "SpearmanrResult(correlation=-0.3435281055188943, pvalue=0.01566321359478596)\n"
     ]
    }
   ],
   "source": [
    "print(scipy.stats.spearmanr([x[0] for x in score_comparison], [x[1] for x in score_comparison]))\n",
    "print(scipy.stats.spearmanr([x[0] for x in score_comparison], [x[2] for x in score_comparison]))"
   ]
  },
  {
   "cell_type": "code",
   "execution_count": 36,
   "metadata": {},
   "outputs": [
    {
     "name": "stdout",
     "output_type": "stream",
     "text": [
      "(-0.6160527304605112, 2.4522646916527043e-06)\n",
      "(-0.4410268376378295, 0.001514919593864457)\n"
     ]
    }
   ],
   "source": [
    "print(scipy.stats.pearsonr([x[0] for x in score_comparison], [x[1] for x in score_comparison]))\n",
    "print(scipy.stats.pearsonr([x[0] for x in score_comparison], [x[2] for x in score_comparison]))"
   ]
  },
  {
   "cell_type": "code",
   "execution_count": null,
   "metadata": {},
   "outputs": [],
   "source": []
  },
  {
   "cell_type": "code",
   "execution_count": 37,
   "metadata": {},
   "outputs": [
    {
     "name": "stdout",
     "output_type": "stream",
     "text": [
      "mf:$\\alpha$-gcf:$\\alpha$ 44 2.6457513110645916 0.9999999999999997\n",
      "mf:$\\beta$-gcf:$\\alpha$ -19 -1.3228756555322958 -0.7453559924999298\n",
      "mf:$\\gamma$-gcf:$\\alpha$ 3 4.845410522502482e-16 0.0\n",
      "mf:$\\alpha$-gcf:$\\beta$ -20 -2.0493901531919194 -0.9999999999999998\n",
      "mf:$\\beta$-gcf:$\\beta$ 43 2.0493901531919185 1.5811388300841887\n",
      "mf:$\\gamma$-gcf:$\\beta$ 2 -0.39440531887330726 -0.22360679774997883\n",
      "mf:$\\alpha$-gcf:$\\gamma$ -18 -0.6831300510639728 -0.40824829046386296\n",
      "mf:$\\beta$-gcf:$\\gamma$ 3 0.6831300510639733 0.6831300510639733\n",
      "mf:$\\gamma$-gcf:$\\gamma$ 25 1.97202659436654 1.7888543819998326\n",
      "mf:$\\alpha$-gcf:$\\alpha$ & 44 & mf:$\\alpha$-gcf:$\\alpha$ & 2.6458 & mf:$\\gamma$-gcf:$\\gamma$ & 1.7889\n",
      "mf:$\\beta$-gcf:$\\beta$ & 43 & mf:$\\beta$-gcf:$\\beta$ & 2.0494 & mf:$\\beta$-gcf:$\\beta$ & 1.5811\n",
      "mf:$\\gamma$-gcf:$\\gamma$ & 25 & mf:$\\gamma$-gcf:$\\gamma$ & 1.9720 & mf:$\\alpha$-gcf:$\\alpha$ & 1.0000\n",
      "mf:$\\gamma$-gcf:$\\alpha$ & 3 & mf:$\\beta$-gcf:$\\gamma$ & 0.6831 & mf:$\\beta$-gcf:$\\gamma$ & 0.6831\n",
      "mf:$\\beta$-gcf:$\\gamma$ & 3 & mf:$\\gamma$-gcf:$\\alpha$ & 0.0000 & mf:$\\gamma$-gcf:$\\alpha$ & 0.0000\n",
      "mf:$\\gamma$-gcf:$\\beta$ & 2 & mf:$\\gamma$-gcf:$\\beta$ & -0.3944 & mf:$\\gamma$-gcf:$\\beta$ & -0.2236\n",
      "mf:$\\alpha$-gcf:$\\gamma$ & -18 & mf:$\\alpha$-gcf:$\\gamma$ & -0.6831 & mf:$\\alpha$-gcf:$\\gamma$ & -0.4082\n",
      "mf:$\\beta$-gcf:$\\alpha$ & -19 & mf:$\\beta$-gcf:$\\alpha$ & -1.3229 & mf:$\\beta$-gcf:$\\alpha$ & -0.7454\n",
      "mf:$\\alpha$-gcf:$\\beta$ & -20 & mf:$\\alpha$-gcf:$\\beta$ & -2.0494 & mf:$\\alpha$-gcf:$\\beta$ & -1.0000\n"
     ]
    }
   ],
   "source": [
    "raw_res = []\n",
    "std_res = []\n",
    "col_res = []\n",
    "\n",
    "for gcf in npl.gcfs:\n",
    "    for mf in npl.molfams:\n",
    "        link_id = \"mf:$\\{}$-gcf:$\\{}$\".format(mf.family_id, gcf.gcf_id)\n",
    "        col_score = phylo_collapse.calculate_correlation(tree, mf, gcf)\n",
    "        std_score = phylo_collapse.calculate_correlation(tree, mf, gcf, collapse=False)\n",
    "        raw_score = phylo_collapse.calculate_correlation(tree, mf, gcf, collapse=False, standardised=False)\n",
    "\n",
    "        raw_res.append((link_id, raw_score))\n",
    "        std_res.append((link_id, std_score))\n",
    "        col_res.append((link_id, col_score))\n",
    "\n",
    "        print(link_id, raw_score, std_score, col_score)\n",
    "        \n",
    "raw_res.sort(key=lambda x:x[1], reverse=True)\n",
    "std_res.sort(key=lambda x:x[1], reverse=True)\n",
    "col_res.sort(key=lambda x:x[1], reverse=True)\n",
    "\n",
    "for a, b, c in zip(raw_res, std_res, col_res):\n",
    "    print(\"{} & {} & {} & {:.04f} & {} & {:.04f}\".format(*(a + b + c)))"
   ]
  },
  {
   "cell_type": "code",
   "execution_count": null,
   "metadata": {},
   "outputs": [],
   "source": []
  },
  {
   "cell_type": "code",
   "execution_count": null,
   "metadata": {},
   "outputs": [],
   "source": []
  },
  {
   "cell_type": "code",
   "execution_count": null,
   "metadata": {},
   "outputs": [],
   "source": []
  },
  {
   "cell_type": "code",
   "execution_count": 38,
   "metadata": {},
   "outputs": [],
   "source": [
    "import matplotlib.pyplot as plt\n",
    "import seaborn as sns\n",
    "sns.set()\n",
    "import numpy"
   ]
  },
  {
   "cell_type": "code",
   "execution_count": null,
   "metadata": {},
   "outputs": [],
   "source": []
  },
  {
   "cell_type": "code",
   "execution_count": 42,
   "metadata": {},
   "outputs": [],
   "source": [
    "def rand_jitter(arr):\n",
    "    return arr\n",
    "    stdev = .01 * (max(arr) - min(arr))\n",
    "    return arr + numpy.random.randn(len(arr)) * stdev\n"
   ]
  },
  {
   "cell_type": "code",
   "execution_count": null,
   "metadata": {},
   "outputs": [],
   "source": []
  },
  {
   "cell_type": "code",
   "execution_count": 44,
   "metadata": {},
   "outputs": [
    {
     "data": {
      "image/png": "[encoded data removed]",
      "text/plain": [
       "<Figure size 864x432 with 2 Axes>"
      ]
     },
     "metadata": {},
     "output_type": "display_data"
    }
   ],
   "source": [
    "fig, (ax1, ax2) = plt.subplots(1, 2, figsize=(12, 6))\n",
    "scale_max = max([x[1:2] for x in score_comparison])[0] + 1\n",
    "scale_min = min([x[1:2] for x in score_comparison])[0] - 0.5\n",
    "\n",
    "ax1.set_title('w/o phylogenetic correction')\n",
    "ax1.set_ylabel('max. strain correlation score')\n",
    "ax1.set_xlabel('phylogenetic distance')\n",
    "ax1.set_ylim(scale_min, scale_max)\n",
    "ax1.scatter(rand_jitter([x[0] for x in score_comparison]), rand_jitter([x[1] for x in score_comparison]), alpha=0.3)\n",
    "\n",
    "x = [x[0] for x in score_comparison]\n",
    "y = [x[1] for x in score_comparison]\n",
    "z = numpy.polyfit(x, y, 1)\n",
    "p = numpy.poly1d(z)\n",
    "ax1.plot(x, p(x))\n",
    "\n",
    "ax2.set_title('with phylogenetic correction')\n",
    "ax2.set_xlabel('phylogenetic distance')\n",
    "ax2.set_ylim(scale_min, scale_max)\n",
    "ax2.scatter(rand_jitter([x[0] for x in score_comparison]), rand_jitter([x[2] for x in score_comparison]), alpha=0.3)\n",
    "\n",
    "x = [x[0] for x in score_comparison]\n",
    "y = [x[2] for x in score_comparison]\n",
    "z = numpy.polyfit(x, y, 1)\n",
    "p = numpy.poly1d(z)\n",
    "ax2.plot(x, p(x))\n",
    "\n",
    "\n",
    "plt.tight_layout()\n",
    "\n",
    "plt.savefig('fig_phylo_score_correlation_synthetic.pdf')"
   ]
  },
  {
   "cell_type": "code",
   "execution_count": null,
   "metadata": {},
   "outputs": [],
   "source": []
  },
  {
   "cell_type": "code",
   "execution_count": null,
   "metadata": {},
   "outputs": [],
   "source": []
  },
  {
   "cell_type": "code",
   "execution_count": null,
   "metadata": {},
   "outputs": [],
   "source": []
  },
  {
   "cell_type": "code",
   "execution_count": null,
   "metadata": {},
   "outputs": [],
   "source": []
  }
 ],
 "metadata": {
  "kernelspec": {
   "display_name": "Python 3",
   "language": "python",
   "name": "python3"
  },
  "language_info": {
   "codemirror_mode": {
    "name": "ipython",
    "version": 3
   },
   "file_extension": ".py",
   "mimetype": "text/x-python",
   "name": "python",
   "nbconvert_exporter": "python",
   "pygments_lexer": "ipython3",
   "version": "3.7.2"
  }
 },
 "nbformat": 4,
 "nbformat_minor": 2
}
