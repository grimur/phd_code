{
 "cells": [
  {
   "cell_type": "code",
   "execution_count": 1,
   "metadata": {},
   "outputs": [],
   "source": [
    "# Last run at d94de94"
   ]
  },
  {
   "cell_type": "code",
   "execution_count": null,
   "metadata": {},
   "outputs": [],
   "source": [
    "# Verify metabolites belonging to the same BGC are in general more similar than metabolites from different BGCs"
   ]
  },
  {
   "cell_type": "code",
   "execution_count": 2,
   "metadata": {},
   "outputs": [],
   "source": [
    "import csv\n",
    "import os\n",
    "import numpy"
   ]
  },
  {
   "cell_type": "code",
   "execution_count": 3,
   "metadata": {},
   "outputs": [],
   "source": [
    "mibig_structures = \"/home/grimur/_iokr/data/mibig/compunds_structures_1.4.csv\"\n",
    "\n",
    "bgc_structures = {}\n",
    "\n",
    "with open(mibig_structures) as f:\n",
    "    r = csv.reader(f)\n",
    "    header = next(r)\n",
    "    for line in r:\n",
    "        bgc_id, bgc_name, smiles, pubchem = line\n",
    "    \n",
    "        if smiles.strip() == \"\":\n",
    "            continue\n",
    "\n",
    "        if bgc_id in bgc_structures:\n",
    "            bgc_structures[bgc_id].append(smiles)\n",
    "        else:\n",
    "            bgc_structures[bgc_id] = [smiles]        \n"
   ]
  },
  {
   "cell_type": "code",
   "execution_count": 4,
   "metadata": {},
   "outputs": [
    {
     "name": "stdout",
     "output_type": "stream",
     "text": [
      "['/home/grimur/miniconda2/envs/jupyter-py3/lib/python3.7/site-packages/cdk_pywrapper']\n",
      "Server process already running: True\n"
     ]
    }
   ],
   "source": [
    "import sys\n",
    "sys.path.append('/home/grimur/git/nplinker/nplinker/prototype')\n",
    "from nplinker.scoring.iokr import mk_fprints"
   ]
  },
  {
   "cell_type": "code",
   "execution_count": 12,
   "metadata": {},
   "outputs": [],
   "source": [
    "smiles_fingerprints = {}\n",
    "for bgc, smiles_list in bgc_structures.items():\n",
    "    for smiles in smiles_list:\n",
    "        if smiles not in smiles_fingerprints:\n",
    "            fp = mk_fprints.fingerprint_from_smiles(smiles)\n",
    "            smiles_fingerprints[smiles] = fp\n"
   ]
  },
  {
   "cell_type": "code",
   "execution_count": 6,
   "metadata": {},
   "outputs": [],
   "source": [
    "import numpy\n",
    "\n",
    "def fp_vector_kernel(v1, v2):\n",
    "    v1 = v1.astype('bool')\n",
    "    v2 = v2.astype('bool')\n",
    "    tanimoto_or = numpy.count_nonzero(numpy.logical_or(v1, v2))\n",
    "    tanimoto_and = numpy.count_nonzero(numpy.logical_and(v1, v2))\n",
    "    if tanimoto_and is 0:\n",
    "        tanimoto = 0\n",
    "    else: \n",
    "        tanimoto = tanimoto_or / tanimoto_and\n",
    "    return gaussian(tanimoto ** 2)\n",
    "\n",
    "def l2_gaussian(v1, v2, gamma=0.01):\n",
    "    d_sq = numpy.sum(numpy.power(v1 - v2, 2))\n",
    "    return gaussian(d_sq, gamma)\n",
    "\n",
    "def gaussian(x, gamma=0.01):\n",
    "    return numpy.exp(-(gamma * x))\n",
    "\n",
    "def pfam_vector_kernel(v1, v2):\n",
    "    return l2_gaussian(numpy.array(v1), numpy.array(v2))\n",
    "\n"
   ]
  },
  {
   "cell_type": "code",
   "execution_count": null,
   "metadata": {},
   "outputs": [],
   "source": []
  },
  {
   "cell_type": "code",
   "execution_count": 13,
   "metadata": {},
   "outputs": [],
   "source": [
    "# The SMILES equivalence classes are the union of all BGC-based SMILES equivalence classes.\n",
    "# i.e. if A, B are SMILES for BGC b1, and A, C are SMILES for BGC b2, \n",
    "# then A, B, C all belong to the same equivalence class.\n",
    "\n",
    "smiles_equiv_classes = {}\n",
    "total_smiles_list = set([])\n",
    "\n",
    "for bgc, smiles_list in bgc_structures.items():\n",
    "    total_smiles_list = total_smiles_list.union(smiles_list)\n",
    "    for smiles in smiles_list:\n",
    "        if smiles not in smiles_equiv_classes:\n",
    "            smiles_equiv_classes[smiles] = set([])\n",
    "        smiles_equiv_classes[smiles] = smiles_equiv_classes[smiles].union(smiles_list)\n",
    "        \n",
    "total_smiles_list = list(total_smiles_list)\n"
   ]
  },
  {
   "cell_type": "code",
   "execution_count": 21,
   "metadata": {},
   "outputs": [],
   "source": [
    "\n",
    "equivalent_dists = []\n",
    "unique_dists = []\n",
    "\n",
    "for r in range(100000):\n",
    "    smiles_1 = numpy.random.choice(total_smiles_list)\n",
    "    smiles_2 = numpy.random.choice(total_smiles_list)\n",
    "    fv_1 = smiles_fingerprints[smiles_1]\n",
    "    fv_2 = smiles_fingerprints[smiles_2]\n",
    "\n",
    "    dist = fp_vector_kernel(fv_1, fv_2)\n",
    "    if smiles_1 in smiles_equiv_classes[smiles_2]:\n",
    "        equivalent_dists.append(dist)\n",
    "    else:\n",
    "        unique_dists.append(dist)"
   ]
  },
  {
   "cell_type": "code",
   "execution_count": 26,
   "metadata": {},
   "outputs": [
    {
     "name": "stdout",
     "output_type": "stream",
     "text": [
      "equiv:  0.9731761841730556\n",
      "unique:  0.7450948074396773\n"
     ]
    }
   ],
   "source": [
    "print('equiv: ', numpy.mean(equivalent_dists))\n",
    "print('unique: ', numpy.mean(unique_dists))"
   ]
  },
  {
   "cell_type": "code",
   "execution_count": 32,
   "metadata": {},
   "outputs": [
    {
     "name": "stdout",
     "output_type": "stream",
     "text": [
      "Ttest_indResult(statistic=17.007231947203504, pvalue=8.956731615948826e-65)\n"
     ]
    }
   ],
   "source": [
    "import scipy.stats\n",
    "print(scipy.stats.ttest_ind(equivalent_dists, unique_dists))"
   ]
  },
  {
   "cell_type": "code",
   "execution_count": null,
   "metadata": {},
   "outputs": [],
   "source": []
  },
  {
   "cell_type": "code",
   "execution_count": 36,
   "metadata": {},
   "outputs": [
    {
     "name": "stdout",
     "output_type": "stream",
     "text": [
      "Total number of BGCs: 1205\n",
      "Total number of metabolites: 1452\n"
     ]
    }
   ],
   "source": [
    "print('Total number of BGCs:', len(bgc_structures.keys()))\n",
    "print('Total number of metabolites:', len(total_smiles_list))"
   ]
  },
  {
   "cell_type": "code",
   "execution_count": 37,
   "metadata": {},
   "outputs": [
    {
     "name": "stdout",
     "output_type": "stream",
     "text": [
      "Total number of pairs: 1692\n"
     ]
    }
   ],
   "source": [
    "count = 0\n",
    "for bgc, smiles in bgc_structures.items():\n",
    "    for s in smiles:\n",
    "        count += 1\n",
    "print('Total number of pairs:', count)"
   ]
  },
  {
   "cell_type": "code",
   "execution_count": null,
   "metadata": {},
   "outputs": [],
   "source": []
  },
  {
   "cell_type": "code",
   "execution_count": null,
   "metadata": {},
   "outputs": [],
   "source": []
  },
  {
   "cell_type": "code",
   "execution_count": null,
   "metadata": {},
   "outputs": [],
   "source": []
  },
  {
   "cell_type": "code",
   "execution_count": null,
   "metadata": {},
   "outputs": [],
   "source": []
  }
 ],
 "metadata": {
  "kernelspec": {
   "display_name": "Python 3",
   "language": "python",
   "name": "python3"
  },
  "language_info": {
   "codemirror_mode": {
    "name": "ipython",
    "version": 3
   },
   "file_extension": ".py",
   "mimetype": "text/x-python",
   "name": "python",
   "nbconvert_exporter": "python",
   "pygments_lexer": "ipython3",
   "version": "3.7.2"
  }
 },
 "nbformat": 4,
 "nbformat_minor": 2
}
