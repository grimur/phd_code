{
 "cells": [
  {
   "cell_type": "code",
   "execution_count": null,
   "metadata": {},
   "outputs": [],
   "source": []
  },
  {
   "cell_type": "code",
   "execution_count": null,
   "metadata": {},
   "outputs": [],
   "source": []
  },
  {
   "cell_type": "code",
   "execution_count": null,
   "metadata": {},
   "outputs": [],
   "source": []
  },
  {
   "cell_type": "code",
   "execution_count": null,
   "metadata": {},
   "outputs": [],
   "source": []
  },
  {
   "cell_type": "code",
   "execution_count": null,
   "metadata": {},
   "outputs": [],
   "source": []
  },
  {
   "cell_type": "code",
   "execution_count": null,
   "metadata": {},
   "outputs": [],
   "source": []
  },
  {
   "cell_type": "code",
   "execution_count": null,
   "metadata": {},
   "outputs": [],
   "source": []
  },
  {
   "cell_type": "code",
   "execution_count": null,
   "metadata": {},
   "outputs": [],
   "source": [
    "from cdk_pywrapper.cdk_pywrapper import Compound"
   ]
  },
  {
   "cell_type": "code",
   "execution_count": null,
   "metadata": {},
   "outputs": [],
   "source": []
  },
  {
   "cell_type": "code",
   "execution_count": null,
   "metadata": {},
   "outputs": [],
   "source": []
  },
  {
   "cell_type": "code",
   "execution_count": null,
   "metadata": {},
   "outputs": [],
   "source": [
    "from pyteomics import mgf\n",
    "import csv"
   ]
  },
  {
   "cell_type": "code",
   "execution_count": null,
   "metadata": {},
   "outputs": [],
   "source": [
    "# Convert MIBiG SMILES to InChI keys\n",
    "mibig_inchi_keys = {}\n",
    "failing_smiles = []\n",
    "cnt = 0\n",
    "with open('/home/grimur/_iokr/data/mibig/compunds_structures_2.0.csv', 'r') as f:\n",
    "    for l in csv.reader(f):\n",
    "        if cnt is 0:\n",
    "            cnt += 1\n",
    "            continue\n",
    "        if len(l) is 0:\n",
    "            continue\n",
    "        mibig_id, compound_name, smiles, pubchem_id = l\n",
    "        if smiles == '':\n",
    "            continue\n",
    "        # print(smiles)\n",
    "        mibig_compound = Compound(compound_string=smiles, identifier_type='smiles')\n",
    "        try:\n",
    "            mibig_inchi_key = mibig_compound.get_inchi_key()\n",
    "        except:\n",
    "            failing_smiles.append(l)\n",
    "            continue\n",
    "        mibig_inchi_first_block = mibig_inchi_key.split('-')[0]\n",
    "        if mibig_inchi_first_block in mibig_inchi_keys:\n",
    "            mibig_inchi_keys[mibig_inchi_first_block].append(((mibig_id, compound_name, pubchem_id), mibig_inchi_key, smiles))#.split('_')[0])\n",
    "        else:\n",
    "            mibig_inchi_keys[mibig_inchi_first_block] = [((mibig_id, compound_name, pubchem_id), mibig_inchi_key, smiles)]#.split('_'[0])]"
   ]
  },
  {
   "cell_type": "code",
   "execution_count": null,
   "metadata": {},
   "outputs": [],
   "source": [
    "# Read InChI keys from spectra\n",
    "matches = []\n",
    "gnps_inchi_keys = set()\n",
    "gnps_count = 0\n",
    "failing_smiles = []\n",
    "# for gnps_spectrum in mgf.read('/home/grimur/gnps-mibig/gnps_with_structure.mgf', use_index=False):\n",
    "for gnps_spectrum in mgf.read('/home/grimur/_iokr/data/mibig/gnps-mibig/gnps_with_structure.mgf', use_index=False):\n",
    "    gnps_inchi_key = gnps_spectrum['params']['inchikey']\n",
    "    gnps_smiles = gnps_spectrum['params']['smiles']\n",
    "    try:\n",
    "        compound = Compound(compound_string=gnps_smiles, identifier_type='smiles')\n",
    "    except:\n",
    "        print('Smiles error:')\n",
    "        print(gnps_smiles)\n",
    "        failing_smiles.append((gnps_count, gnps_spectrum['params']['filename'], gnps_smiles))\n",
    "    gnps_count += 1\n",
    "    print('processing {}'.format(gnps_inchi_key))\n",
    "    gnps_inchi_first_block = gnps_inchi_key.split('-')[0]\n",
    "    gnps_inchi_keys.add(gnps_inchi_first_block)\n",
    "    mibig_id = mibig_inchi_keys.get(gnps_inchi_first_block, None)\n",
    "    if mibig_id is not None:\n",
    "        matches.append((gnps_spectrum, mibig_id))\n"
   ]
  },
  {
   "cell_type": "code",
   "execution_count": null,
   "metadata": {},
   "outputs": [],
   "source": [
    "print('matches: {}'.format(len(matches)))\n",
    "print('matched mibig ids: {}'.format(len(set([x[1][0][0] for x in matches]))))\n",
    "print('gnps spectra: {}'.format(gnps_count))\n",
    "print('gnps keys: {}'.format(len(gnps_inchi_keys)))\n",
    "print('total mibig ids: {}'.format(len(set().union(*mibig_inchi_keys.values()))))\n",
    "print('mibig keys: {}'.format(len(mibig_inchi_keys.keys())))\n"
   ]
  },
  {
   "cell_type": "code",
   "execution_count": null,
   "metadata": {},
   "outputs": [],
   "source": [
    "#print(set([x[1][0][0] for x in matches]))"
   ]
  },
  {
   "cell_type": "code",
   "execution_count": null,
   "metadata": {},
   "outputs": [],
   "source": [
    "# with open('failing_smiles.csv', 'w') as f:\n",
    "#     for i in failing_smiles:\n",
    "#         f.write(('%s,%s,%s' % i) + '\\n')\n",
    "\n"
   ]
  },
  {
   "cell_type": "code",
   "execution_count": null,
   "metadata": {},
   "outputs": [],
   "source": [
    "cnt = 0\n",
    "cnt_err = 0\n",
    "\n",
    "for spectrum, mibig_entries in matches:\n",
    "    gnps_name = spectrum['params']['name']\n",
    "    for mibig_ids, mibig_inchi, mibig_smiles in mibig_entries:\n",
    "        mibig_id, mibig_name, pubchem_id = mibig_ids\n",
    "        # print(mibig_name.lower())\n",
    "        mibig_name = mibig_name.lower()\n",
    "        gnps_name = gnps_name.lower()\n",
    "        found = max(mibig_name.find(gnps_name), gnps_name.find(mibig_name))\n",
    "        if found == -1:\n",
    "            if gnps_name.find('lovastatin') != -1 and mibig_name.find('monacolin') != -1:\n",
    "                found = 0\n",
    "            if gnps_name.find('lovatatin') != -1 and mibig_name.find('monacolin') != -1:\n",
    "                found = 0\n",
    "            if gnps_name.find('lovatatin') != -1 and mibig_name.find('lovastatin') != -1:\n",
    "                found = 0\n",
    "            if mibig_name.find('lovastatin') != -1 and gnps_name.find('monacolin') != -1:\n",
    "                found = 0\n",
    "            if gnps_name.find('noscapin') != -1 and mibig_name.find('narcotin') != -1:\n",
    "                found = 0\n",
    "            if mibig_name.find('noscapin') != -1 and gnps_name.find('narcotin') != -1:\n",
    "                found = 0\n",
    "            if gnps_name.find('tolytoxin') != -1 and mibig_name.find('scytophycin') != -1:\n",
    "                found = 0\n",
    "            if mibig_name.find('tolytoxin') != -1 and gnps_name.find('scytophycin') != -1:\n",
    "                found = 0\n",
    "            if gnps_name.find('adriamycin') != -1 and mibig_name.find('doxorubicin') != -1:\n",
    "                found = 0\n",
    "            if mibig_name.find('adriamycin') != -1 and gnps_name.find('doxorubicin') != -1:\n",
    "                found = 0\n",
    "            if gnps_name.find('adenosine') != -1 and mibig_name.find('vidarabine') != -1:\n",
    "                found = 0\n",
    "            if mibig_name.find('adenosine') != -1 and gnps_name.find('vidarabine') != -1:\n",
    "                found = 0\n",
    "            if mibig_name.find('gibberelli') != -1 and gnps_name.find('gibberelli') != -1:\n",
    "                found = 0\n",
    "\n",
    "            for token in gnps_name.split():\n",
    "                if mibig_name.find(token) > -1:\n",
    "                    found = 0\n",
    "            for token in mibig_name.split():\n",
    "                if gnps_name.find(token) > -1:\n",
    "                    found = 0\n",
    "        if found == -1:\n",
    "            print('gnps: {}, mibig: {}'.format(gnps_name, mibig_name))\n",
    "            cnt_err += 1\n",
    "        cnt += 1\n"
   ]
  },
  {
   "cell_type": "code",
   "execution_count": null,
   "metadata": {},
   "outputs": [],
   "source": [
    "print(cnt)\n",
    "print(cnt_err)"
   ]
  },
  {
   "cell_type": "code",
   "execution_count": null,
   "metadata": {},
   "outputs": [],
   "source": []
  },
  {
   "cell_type": "code",
   "execution_count": null,
   "metadata": {},
   "outputs": [],
   "source": [
    "import csv"
   ]
  },
  {
   "cell_type": "code",
   "execution_count": null,
   "metadata": {},
   "outputs": [],
   "source": [
    "# Write a list of the matched MIBiG entries / spectra\n",
    "with open('matched_mibig_gnps_update.csv', 'w') as f:\n",
    "    fwriter = csv.writer(f)\n",
    "    fwriter.writerow(['# mgf_spectrum_id',\n",
    "                'mgf_inchikey',\n",
    "                'mgf_smiles',\n",
    "                'mibig_id',\n",
    "                'mibig_name',\n",
    "                'mibig_inchi',\n",
    "                'mibig_smiles'])\n",
    "    for spectrum, mibig_entries in matches:\n",
    "        spec_id = spectrum['params']['spectrumid']\n",
    "        spec_inchi = spectrum['params']['inchikey']\n",
    "        spec_smiles = spectrum['params']['smiles']\n",
    "        for mibig_ids, mibig_inchi, mibig_smiles in mibig_entries:\n",
    "            mibig_id, mibig_name, ext_id = mibig_ids\n",
    "            output_list = [spec_id, spec_inchi, spec_smiles, mibig_id, mibig_name, mibig_inchi, mibig_smiles]\n",
    "            fwriter.writerow(output_list)\n",
    "            #print(output_string)\n",
    "            \n"
   ]
  },
  {
   "cell_type": "code",
   "execution_count": null,
   "metadata": {},
   "outputs": [],
   "source": [
    "# Write a MGF file with the matched spectra\n",
    "mgf.write([x[0] for x in matches], 'matched_mibig_gnps_update.mgf')"
   ]
  },
  {
   "cell_type": "code",
   "execution_count": null,
   "metadata": {},
   "outputs": [],
   "source": [
    "matches[0][0]['params']"
   ]
  },
  {
   "cell_type": "code",
   "execution_count": null,
   "metadata": {},
   "outputs": [],
   "source": [
    "matches_with_bgc_id = []\n",
    "for ms, bgc in matches:\n",
    "    bgc_id = bgc[0][0][0]\n",
    "    spectrum_id = ms['params']['spectrumid']\n",
    "    compound_id = '.'.join((bgc_id, spectrum_id))\n",
    "    ms['params']['BGCID'] = compound_id\n",
    "    matches_with_bgc_id.append(ms)\n",
    "    \n",
    "    "
   ]
  },
  {
   "cell_type": "code",
   "execution_count": null,
   "metadata": {},
   "outputs": [],
   "source": [
    "mgf.write(matches_with_bgc_id, 'matched_mibig_gnps_update_mibigid.mgf')"
   ]
  },
  {
   "cell_type": "code",
   "execution_count": null,
   "metadata": {},
   "outputs": [],
   "source": []
  },
  {
   "cell_type": "code",
   "execution_count": null,
   "metadata": {},
   "outputs": [],
   "source": []
  }
 ],
 "metadata": {
  "kernelspec": {
   "display_name": "Python 3",
   "language": "python",
   "name": "python3"
  },
  "language_info": {
   "codemirror_mode": {
    "name": "ipython",
    "version": 3
   },
   "file_extension": ".py",
   "mimetype": "text/x-python",
   "name": "python",
   "nbconvert_exporter": "python",
   "pygments_lexer": "ipython3",
   "version": "3.7.2"
  }
 },
 "nbformat": 4,
 "nbformat_minor": 2
}
